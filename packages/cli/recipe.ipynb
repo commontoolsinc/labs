{
 "cells": [
  {
   "cell_type": "markdown",
   "id": "d9478bd2-c063-485f-8808-c20358cbde41",
   "metadata": {},
   "source": [
    "## Setup\n",
    "Set up some imports that we need for recipes"
   ]
  },
  {
   "cell_type": "code",
   "execution_count": 1,
   "id": "5db68759-6b4a-46be-95e0-9ed06bebc49e",
   "metadata": {},
   "outputs": [],
   "source": [
    "import {\n",
    "  derive,\n",
    "  handler,\n",
    "  JSONSchema,\n",
    "  NAME,\n",
    "  UI,\n",
    "  recipe,\n",
    "  Schema,\n",
    "  cell,\n",
    "  run,\n",
    "  getDoc\n",
    "} from \"../../packages/cli/notebook_shim.ts\";\n"
   ]
  },
  {
   "cell_type": "markdown",
   "id": "3fddaab7-b140-489b-b7bb-25063d965f5d",
   "metadata": {},
   "source": [
    "## Most simple recipe\n",
    "The entry point is to call \"recipe\" which returns an anonymous function.\n",
    "You also pass it a function that is what your recipe \"does\". It takes in a list of input references, does work, and then outputs a result.\n",
    "We'll go into all that but for now, we take in nothing, and give back nothing. \n",
    "You can see that this function object has an `argumentSchema` (which is empty) and also a `resultSchema` which is also empty.\n"
   ]
  },
  {
   "cell_type": "code",
   "execution_count": 2,
   "id": "ffef3c05-0595-4c72-8780-fedb65f4b70b",
   "metadata": {},
   "outputs": [
    {
     "data": {
      "text/plain": [
       "[Function (anonymous)] {\n",
       "  argumentSchema: {\n",
       "    type: \u001b[32m\"object\"\u001b[39m,\n",
       "    properties: {},\n",
       "    description: \u001b[32m\"super simple recipe\"\u001b[39m\n",
       "  },\n",
       "  resultSchema: {},\n",
       "  initial: {},\n",
       "  result: {},\n",
       "  nodes: [],\n",
       "  toJSON: \u001b[36m[Function: toJSON]\u001b[39m\n",
       "}"
      ]
     },
     "execution_count": 2,
     "metadata": {},
     "output_type": "execute_result"
    }
   ],
   "source": [
    "recipe(\"super simple recipe\", () => ({}));"
   ]
  },
  {
   "cell_type": "markdown",
   "id": "6adcf3bc-5c82-4504-aabf-ef5ec20d2d0c",
   "metadata": {},
   "source": [
    "## UI conventions\n",
    "Most recipes will have a [NAME] and a [UI] property. We use this when we render the recipes.\n",
    "You can see them under `result`"
   ]
  },
  {
   "cell_type": "code",
   "execution_count": 3,
   "id": "9c811790-7b6f-4102-ae18-b78ce8d0171b",
   "metadata": {},
   "outputs": [
    {
     "data": {
      "text/plain": [
       "[Function (anonymous)] {\n",
       "  argumentSchema: {\n",
       "    type: \u001b[32m\"object\"\u001b[39m,\n",
       "    properties: {},\n",
       "    description: \u001b[32m\"super simple recipe\"\u001b[39m\n",
       "  },\n",
       "  resultSchema: {},\n",
       "  initial: {},\n",
       "  result: {\n",
       "    \u001b[32m\"$NAME\"\u001b[39m: \u001b[32m\"Hello World Recipe\"\u001b[39m,\n",
       "    \u001b[32m\"$UI\"\u001b[39m: { tag: \u001b[32m\"os-container\"\u001b[39m, children: [ \u001b[32m\"Hello World!\"\u001b[39m ] }\n",
       "  },\n",
       "  nodes: [],\n",
       "  toJSON: \u001b[36m[Function: toJSON]\u001b[39m\n",
       "}"
      ]
     },
     "execution_count": 3,
     "metadata": {},
     "output_type": "execute_result"
    }
   ],
   "source": [
    "const helloRecipe = recipe(\"super simple recipe\", () => ({\n",
    "  [NAME]: \"Hello World Recipe\",\n",
    "  [UI]: {\n",
    "    tag: \"os-container\",\n",
    "    children: [\"Hello World!\"]\n",
    "  }\n",
    "}));\n",
    "helloRecipe"
   ]
  },
  {
   "cell_type": "markdown",
   "id": "2fc9a088-6dd4-4073-88cd-4187cee771ea",
   "metadata": {},
   "source": [
    "## ArgumentSchema and ResultSchema\n",
    "Now let's add an ArgumentSchema that contains a `name` property. "
   ]
  },
  {
   "cell_type": "code",
   "execution_count": 4,
   "id": "577c171e-52ca-4485-980c-2bc43aea0350",
   "metadata": {},
   "outputs": [
    {
     "name": "stdout",
     "output_type": "stream",
     "text": [
      "generateRecipeId: generated id ba4jcau2dsvfxx74m73e6w2bg37f7xlukxhann3zmww3qf7yq4sjlbbg3\n",
      "name changed Ellyse\n"
     ]
    },
    {
     "data": {
      "text/plain": [
       "{\n",
       "  get: \u001b[36m[Function: get]\u001b[39m,\n",
       "  getAsQueryResult: \u001b[36m[Function: getAsQueryResult]\u001b[39m,\n",
       "  asCell: \u001b[36m[Function: asCell]\u001b[39m,\n",
       "  send: \u001b[36m[Function: send]\u001b[39m,\n",
       "  updates: \u001b[36m[Function: updates]\u001b[39m,\n",
       "  getAtPath: \u001b[36m[Function: getAtPath]\u001b[39m,\n",
       "  setAtPath: \u001b[36m[Function: setAtPath]\u001b[39m,\n",
       "  freeze: \u001b[36m[Function: freeze]\u001b[39m,\n",
       "  isFrozen: \u001b[36m[Function: isFrozen]\u001b[39m,\n",
       "  toJSON: \u001b[36m[Function: toJSON]\u001b[39m,\n",
       "  value: \u001b[36m[Getter]\u001b[39m,\n",
       "  entityId: \u001b[36m[Getter/Setter]\u001b[39m,\n",
       "  space: \u001b[36m[Getter/Setter]\u001b[39m,\n",
       "  sourceCell: \u001b[36m[Getter/Setter]\u001b[39m,\n",
       "  ephemeral: \u001b[36m[Getter/Setter]\u001b[39m,\n",
       "  copyTrap: \u001b[36m[Getter]\u001b[39m,\n",
       "  [\u001b[32mSymbol(toOpaqueRef)\u001b[39m]: \u001b[36m[Function: [toOpaqueRef]]\u001b[39m,\n",
       "  [\u001b[32mSymbol(isDoc)\u001b[39m]: \u001b[33mtrue\u001b[39m\n",
       "}"
      ]
     },
     "execution_count": 4,
     "metadata": {},
     "output_type": "execute_result"
    }
   ],
   "source": [
    "const ArgumentSchema = {\n",
    "  type: \"object\",\n",
    "  properties: {\n",
    "    name: { type: \"string\" }\n",
    "  },\n",
    "  required: [\"name\"]\n",
    "} as const satisfies JSONSchema;\n",
    "\n",
    "const ResultSchema = {\n",
    "  type: \"object\",\n",
    "  properties: {\n",
    "    echoed: { type: \"string\" }\n",
    "  },\n",
    "  required: [\"echoed\"]\n",
    "} as const satisfies JSONSchema;\n",
    "\n",
    "const helloRecipe = recipe(ArgumentSchema, ResultSchema, ({ name }) => {\n",
    "  // Create a derived value that reacts to changes in `name`\n",
    "  const echoed = derive(name, (nameValue) => {\n",
    "    console.log(\"name changed\", nameValue);\n",
    "    return `Hello, ${nameValue}!`;\n",
    "  });\n",
    "\n",
    "  return {\n",
    "    [NAME]: \"Hello World (with derive)\",\n",
    "    echoed // 👈 included in `result` per ResultSchema\n",
    "  };\n",
    "});\n",
    "\n",
    "// make input a proper cell:\n",
    "const input = getDoc(\"Ellyse\", \"name\", \"test\").asCell();\n",
    "const resultDoc = getDoc(undefined, \"run hello\", \"test\");\n",
    "const output = await run(helloRecipe, { name: input }, resultDoc);\n",
    "output"
   ]
  },
  {
   "cell_type": "code",
   "execution_count": null,
   "id": "c1a586b3-e49c-4baf-9042-3125141c86a4",
   "metadata": {},
   "outputs": [],
   "source": []
  }
 ],
 "metadata": {
  "kernelspec": {
   "display_name": "Deno",
   "language": "typescript",
   "name": "deno"
  },
  "language_info": {
   "codemirror_mode": "typescript",
   "file_extension": ".ts",
   "mimetype": "text/x.typescript",
   "name": "typescript",
   "nbconvert_exporter": "script",
   "pygments_lexer": "typescript",
   "version": "5.7.3"
  }
 },
 "nbformat": 4,
 "nbformat_minor": 5
}
