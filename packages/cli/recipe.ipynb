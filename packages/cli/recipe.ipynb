{
 "cells": [
  {
   "cell_type": "markdown",
   "id": "d9478bd2-c063-485f-8808-c20358cbde41",
   "metadata": {},
   "source": [
    "## Setup\n",
    "Set up some imports that we need for recipes"
   ]
  },
  {
   "cell_type": "code",
   "execution_count": 1,
   "id": "5db68759-6b4a-46be-95e0-9ed06bebc49e",
   "metadata": {},
   "outputs": [],
   "source": [
    "import {\n",
    "  derive,\n",
    "  handler,\n",
    "  JSONSchema,\n",
    "  NAME,\n",
    "  UI,\n",
    "  recipe,\n",
    "  Schema,\n",
    "  cell,\n",
    "  run,\n",
    "  getDoc\n",
    "} from \"../../packages/cli/notebook_shim.ts\";\n"
   ]
  },
  {
   "cell_type": "markdown",
   "id": "3fddaab7-b140-489b-b7bb-25063d965f5d",
   "metadata": {},
   "source": [
    "## Most simple recipe\n",
    "The entry point is to call \"recipe\" which returns an anonymous function.\n",
    "You also pass it a function that is what your recipe \"does\". It takes in a list of input references, does work, and then outputs a result.\n",
    "We'll go into all that but for now, we take in nothing, and give back nothing. \n",
    "You can see that this function object has an `argumentSchema` (which is empty) and also a `resultSchema` which is also empty.\n"
   ]
  },
  {
   "cell_type": "code",
   "execution_count": 2,
   "id": "ffef3c05-0595-4c72-8780-fedb65f4b70b",
   "metadata": {},
   "outputs": [
    {
     "data": {
      "text/plain": [
       "[Function (anonymous)] {\n",
       "  argumentSchema: {\n",
       "    type: \u001b[32m\"object\"\u001b[39m,\n",
       "    properties: {},\n",
       "    description: \u001b[32m\"super simple recipe\"\u001b[39m\n",
       "  },\n",
       "  resultSchema: {},\n",
       "  initial: {},\n",
       "  result: {},\n",
       "  nodes: [],\n",
       "  toJSON: \u001b[36m[Function: toJSON]\u001b[39m\n",
       "}"
      ]
     },
     "execution_count": 2,
     "metadata": {},
     "output_type": "execute_result"
    }
   ],
   "source": [
    "recipe(\"super simple recipe\", () => ({}));"
   ]
  },
  {
   "cell_type": "markdown",
   "id": "6adcf3bc-5c82-4504-aabf-ef5ec20d2d0c",
   "metadata": {},
   "source": [
    "## UI conventions\n",
    "Most recipes will have a [NAME] and a [UI] property. We use this when we render the recipes.\n",
    "You can see them under `result`"
   ]
  },
  {
   "cell_type": "code",
   "execution_count": 3,
   "id": "9c811790-7b6f-4102-ae18-b78ce8d0171b",
   "metadata": {},
   "outputs": [
    {
     "data": {
      "text/plain": [
       "[Function (anonymous)] {\n",
       "  argumentSchema: {\n",
       "    type: \u001b[32m\"object\"\u001b[39m,\n",
       "    properties: {},\n",
       "    description: \u001b[32m\"super simple recipe\"\u001b[39m\n",
       "  },\n",
       "  resultSchema: {},\n",
       "  initial: {},\n",
       "  result: {\n",
       "    \u001b[32m\"$NAME\"\u001b[39m: \u001b[32m\"Hello World Recipe\"\u001b[39m,\n",
       "    \u001b[32m\"$UI\"\u001b[39m: { tag: \u001b[32m\"os-container\"\u001b[39m, children: [ \u001b[32m\"Hello World!\"\u001b[39m ] }\n",
       "  },\n",
       "  nodes: [],\n",
       "  toJSON: \u001b[36m[Function: toJSON]\u001b[39m\n",
       "}"
      ]
     },
     "execution_count": 3,
     "metadata": {},
     "output_type": "execute_result"
    }
   ],
   "source": [
    "const helloRecipe = recipe(\"super simple recipe\", () => ({\n",
    "  [NAME]: \"Hello World Recipe\",\n",
    "  [UI]: {\n",
    "    tag: \"os-container\",\n",
    "    children: [\"Hello World!\"]\n",
    "  }\n",
    "}));\n",
    "helloRecipe"
   ]
  },
  {
   "cell_type": "markdown",
   "id": "2fc9a088-6dd4-4073-88cd-4187cee771ea",
   "metadata": {},
   "source": [
    "## ArgumentSchema\n",
    "\n",
    "Now let's add an `ArgumentSchema`. We also need to include a `ResultSchema`, but it's just an empty stub for now — we'll come back to result schemas later.\n",
    "\n",
    "We're focusing on the `ArgumentSchema` (also called the input schema). You can think of it like the parameters to a function. In this example, we’ll pass in one parameter: `name`.\n",
    "\n",
    "To supply a value for the `name` field, we create a **reactive cell** using `getDoc(...).asCell()`. A cell is just a reactive value, the system tracks it and updates anything that depends on it when it changes.\n",
    "\n",
    "Inside the recipe, we use `derive(name, fn)` to set up a reactive function. The function inside `derive` is automatically called whenever the value of `name` changes.\n",
    "\n",
    "In this case, we’re using `console.log(...)` to prove that our input is wired up correctly. You should see \"name changed\" in the output logs when the recipe runs. That confirms we successfully passed a value into the `ArgumentSchema`, and that the reactive system responded.\n"
   ]
  },
  {
   "cell_type": "code",
   "execution_count": 4,
   "id": "92b98014-77f7-490e-b318-b23d2ec2985f",
   "metadata": {},
   "outputs": [
    {
     "name": "stdout",
     "output_type": "stream",
     "text": [
      "generateRecipeId: generated id ba4jcagevpvlxuhv6i4awqcf67ycjmtamb3krwlfesl5nlvkedesrdcrb\n",
      "name changed Ellyse\n"
     ]
    }
   ],
   "source": [
    "// this is the input to the recipe\n",
    "const ArgumentSchema = {\n",
    "  type: \"object\",\n",
    "  properties: {\n",
    "    name: { type: \"string\" }\n",
    "  },\n",
    "  required: [\"name\"]\n",
    "} as const satisfies JSONSchema;\n",
    "\n",
    "// stubbed empty result schema\n",
    "const ResultSchema = {\n",
    "  type: \"object\",\n",
    "  properties: {}\n",
    "} as const satisfies JSONSchema;\n",
    "\n",
    "// make the recipe, which is a function\n",
    "const helloRecipe = recipe(ArgumentSchema, ResultSchema, ({ name }) => {\n",
    "  // Create a derived value that reacts to changes in `name`\n",
    "  derive(name, (nameValue) => {\n",
    "    console.log(\"name changed\", nameValue);\n",
    "    return \"hello\";\n",
    "  });\n",
    "\n",
    "  // Return nothing for now\n",
    "  return {};\n",
    "});\n",
    "\n",
    "// make input a proper cell for reactive programming\n",
    "const input = getDoc(\"Ellyse\", \"name\", \"test\").asCell();\n",
    "\n",
    "// this is where the output will go, but we’re not using it yet\n",
    "const resultDoc = getDoc(undefined, \"run hello\", \"test\");\n",
    "\n",
    "const output = await run(helloRecipe, { name: input }, resultDoc);\n"
   ]
  },
  {
   "cell_type": "markdown",
   "id": "72e4e018-3108-468f-8615-547eb2973eb8",
   "metadata": {},
   "source": [
    "## ResultSchema\n",
    "\n",
    "Now that we've seen how to define an `ArgumentSchema`, let's introduce the `ResultSchema`.\n",
    "\n",
    "If `ArgumentSchema` defines the **inputs** to the recipe (like parameters to a function), then `ResultSchema` defines the **outputs** — the values this recipe will produce and expose.\n",
    "\n",
    "In this example, we define a `ResultSchema` with a single field called `echoed`, which is a string. This schema defines the expected shape of the object returned from the function inside the `recipe(...)` definition.\n",
    "\n",
    "Inside the recipe, we use `derive(...)` to create a reactive value called `echoed`, which updates whenever `name` changes. This value is then returned as part of the recipe's result.\n",
    "\n",
    "In the end, we grab `echoed` from the recipe's result and print it to the screen.\n"
   ]
  },
  {
   "cell_type": "code",
   "execution_count": 5,
   "id": "577c171e-52ca-4485-980c-2bc43aea0350",
   "metadata": {},
   "outputs": [
    {
     "name": "stdout",
     "output_type": "stream",
     "text": [
      "generateRecipeId: generated id ba4jcb7hjgdcypwvoo33nudsc6r5ls543hxjfmcbwgkf5qynlsjm3apvs\n",
      "name changed Ellyse\n",
      "got echoed value from the recipe output:  Hello, Ellyse!\n"
     ]
    }
   ],
   "source": [
    "const ArgumentSchema = {\n",
    "  type: \"object\",\n",
    "  properties: {\n",
    "    name: { type: \"string\" }\n",
    "  },\n",
    "  required: [\"name\"]\n",
    "} as const satisfies JSONSchema;\n",
    "\n",
    "const ResultSchema = {\n",
    "  type: \"object\",\n",
    "  properties: {\n",
    "    echoed: { type: \"string\" }\n",
    "  },\n",
    "  required: [\"echoed\"]\n",
    "} as const satisfies JSONSchema;\n",
    "\n",
    "const helloRecipe = recipe(ArgumentSchema, ResultSchema, ({ name }) => {\n",
    "  // Create a derived value that reacts to changes in `name`\n",
    "  const echoed = derive(name, (nameValue) => {\n",
    "    console.log(\"name changed\", nameValue);\n",
    "    return `Hello, ${nameValue}!`;\n",
    "  });\n",
    "\n",
    "  return {\n",
    "    [NAME]: \"Hello World\",\n",
    "    echoed // included in `result` (see ResultSchema)\n",
    "  };\n",
    "});\n",
    "\n",
    "// make input a proper cell\n",
    "// note here that resultDoc and output are the same documents because both hold the results of the recipe\n",
    "const input = getDoc(\"Ellyse\", \"name\", \"test\").asCell();\n",
    "const resultDoc = getDoc(undefined, \"run hello\", \"test\");\n",
    "const outputDoc = await run(helloRecipe, { name: input }, resultDoc);\n",
    "\n",
    "const echoed_from_output = outputDoc.get().echoed.$alias.cell.get().internal.echoed\n",
    "console.log(\"got echoed value from the recipe output: \", echoed_from_output)\n"
   ]
  },
  {
   "cell_type": "code",
   "execution_count": null,
   "id": "c1a586b3-e49c-4baf-9042-3125141c86a4",
   "metadata": {},
   "outputs": [],
   "source": []
  }
 ],
 "metadata": {
  "kernelspec": {
   "display_name": "Deno",
   "language": "typescript",
   "name": "deno"
  },
  "language_info": {
   "codemirror_mode": "typescript",
   "file_extension": ".ts",
   "mimetype": "text/x.typescript",
   "name": "typescript",
   "nbconvert_exporter": "script",
   "pygments_lexer": "typescript",
   "version": "5.6.2"
  }
 },
 "nbformat": 4,
 "nbformat_minor": 5
}
